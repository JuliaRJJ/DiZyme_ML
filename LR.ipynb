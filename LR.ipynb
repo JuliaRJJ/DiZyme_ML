{
 "cells": [
  {
   "cell_type": "code",
   "execution_count": 2,
   "metadata": {},
   "outputs": [
    {
     "name": "stdout",
     "output_type": "stream",
     "text": [
      "Q2: -1.4813719187196193\n",
      "r2_test: 0.37589810103794563\n",
      "MAE_test: 1.476909850150164\n",
      "MSE_test: 3.58573177050477\n",
      "RMSE_test: 1.8936028544826315\n",
      "r2_train: 0.4749318010045437\n",
      "MAE_train: 1.3646204710426757\n",
      "MSE_train: 3.023004154850615\n",
      "RMSE_train: 1.7386788532821738\n"
     ]
    },
    {
     "data": {
      "image/png": "[encoded data removed]",
      "text/plain": [
       "<Figure size 432x288 with 1 Axes>"
      ]
     },
     "metadata": {
      "needs_background": "light"
     },
     "output_type": "display_data"
    }
   ],
   "source": [
    "import numpy as np\n",
    "import matplotlib.pyplot as plt\n",
    "import pandas as pd\n",
    "from sklearn.model_selection import train_test_split\n",
    "from sklearn.linear_model import LinearRegression\n",
    "\n",
    "db = pd.read_csv('DiZyme.csv')\n",
    "\n",
    "di2 = {'TMB':1.0, 'H2O2':2.0, 'ABTS': 3.0, 'OPD': 4.0, 'DAB':5.0, 'BA':6.0}\n",
    "db['Subtype'].replace(di2, inplace=True)\n",
    "x = db.loc[:,'Syngony':'volume'].values\n",
    "y = db.loc[:,'Kcat'].values\n",
    "x_train, x_test, y_train, y_test = train_test_split(x, y, test_size=0.2, random_state=7)\n",
    "\n",
    "\n",
    "from sklearn.preprocessing import MinMaxScaler\n",
    "sc = MinMaxScaler()\n",
    "x_train = sc.fit_transform(x_train)\n",
    "x_test = sc.transform(x_test)\n",
    "y_train =np.log10(y_train)\n",
    "y_test = np.log10(y_test)\n",
    "\n",
    "regressor = LinearRegression()\n",
    "regressor.fit(x_train,y_train)\n",
    "y_pred=regressor.predict(x_test)\n",
    "y1_pred = regressor.predict(x_train)\n",
    "\n",
    "from sklearn.model_selection import cross_val_score\n",
    "accuracy=cross_val_score(regressor, x_train, y_train.ravel(), cv=10,\n",
    "                        scoring='neg_mean_absolute_error')\n",
    "print(\"Q2:\",accuracy.mean())\n",
    "\n",
    "from sklearn import metrics\n",
    "print('r2_test:', metrics.r2_score(y_test, y_pred))\n",
    "print('MAE_test:', metrics.mean_absolute_error(y_test, y_pred))\n",
    "print('MSE_test:', metrics.mean_squared_error(y_test, y_pred))\n",
    "print('RMSE_test:', np.sqrt(metrics.mean_squared_error(y_test, y_pred)))\n",
    "print('r2_train:', metrics.r2_score(y_train, y1_pred))\n",
    "print('MAE_train:', metrics.mean_absolute_error(y_train, y1_pred))\n",
    "print('MSE_train:', metrics.mean_squared_error(y_train, y1_pred))\n",
    "print('RMSE_train:', np.sqrt(metrics.mean_squared_error(y_train, y1_pred)))\n",
    "\n",
    "plt.scatter(y_test, y_pred, color = 'blue')\n",
    "plt.plot(y_test, y_test, color = 'black')\n",
    "plt.title('Linear Regression')\n",
    "plt.xlabel('test data, Km (mM)')\n",
    "plt.ylabel('predicted data, Km (mM)')\n",
    "plt.xlim(-3, 4)\n",
    "plt.ylim(-3, 4)\n",
    "plt.gca().set_aspect('equal', adjustable='box')\n",
    "plt.show()\n"
   ]
  },
  {
   "cell_type": "code",
   "execution_count": 3,
   "metadata": {},
   "outputs": [
    {
     "name": "stdout",
     "output_type": "stream",
     "text": [
      "Q2: -0.8782555275310349\n",
      "r2_test: 0.050142914058409094\n",
      "MAE_test: 1.050777357068869\n",
      "MSE_test: 1.5629016654897785\n",
      "RMSE_test: 1.2501606558717877\n",
      "r2_train: 0.19070268496761666\n",
      "MAE_train: 0.8129121673911242\n",
      "MSE_train: 1.1122786699812837\n",
      "RMSE_train: 1.0546462297762618\n"
     ]
    },
    {
     "data": {
      "image/png": "[encoded data removed]",
      "text/plain": [
       "<Figure size 432x288 with 1 Axes>"
      ]
     },
     "metadata": {
      "needs_background": "light"
     },
     "output_type": "display_data"
    }
   ],
   "source": [
    "x = db.loc[:,'Syngony':'Ccat'].values\n",
    "y = db.loc[:,'Km'].values\n",
    "x_train, x_test, y_train, y_test = train_test_split(x, y, test_size=0.2, random_state=7)\n",
    "\n",
    "\n",
    "from sklearn.preprocessing import MinMaxScaler\n",
    "sc = MinMaxScaler()\n",
    "x_train = sc.fit_transform(x_train)\n",
    "x_test = sc.transform(x_test)\n",
    "y_train =np.log10(y_train)\n",
    "y_test = np.log10(y_test)\n",
    "\n",
    "regressor = LinearRegression()\n",
    "regressor.fit(x_train,y_train)\n",
    "y_pred=regressor.predict(x_test)\n",
    "y1_pred = regressor.predict(x_train)\n",
    "\n",
    "from sklearn.model_selection import cross_val_score\n",
    "accuracy=cross_val_score(regressor, x_train, y_train.ravel(), cv=10,\n",
    "                        scoring='neg_mean_absolute_error')\n",
    "print(\"Q2:\",accuracy.mean())\n",
    "\n",
    "from sklearn import metrics\n",
    "print('r2_test:', metrics.r2_score(y_test, y_pred))\n",
    "print('MAE_test:', metrics.mean_absolute_error(y_test, y_pred))\n",
    "print('MSE_test:', metrics.mean_squared_error(y_test, y_pred))\n",
    "print('RMSE_test:', np.sqrt(metrics.mean_squared_error(y_test, y_pred)))\n",
    "print('r2_train:', metrics.r2_score(y_train, y1_pred))\n",
    "print('MAE_train:', metrics.mean_absolute_error(y_train, y1_pred))\n",
    "print('MSE_train:', metrics.mean_squared_error(y_train, y1_pred))\n",
    "print('RMSE_train:', np.sqrt(metrics.mean_squared_error(y_train, y1_pred)))\n",
    "\n",
    "plt.scatter(y_test, y_pred, color = 'blue')\n",
    "plt.plot(y_test, y_test, color = 'black')\n",
    "plt.title('Linear Regression')\n",
    "plt.xlabel('test data, Km (mM)')\n",
    "plt.ylabel('predicted data, Km (mM)')\n",
    "plt.xlim(-3, 4)\n",
    "plt.ylim(-3, 4)\n",
    "plt.gca().set_aspect('equal', adjustable='box')\n",
    "plt.show()"
   ]
  },
  {
   "cell_type": "code",
   "execution_count": null,
   "metadata": {},
   "outputs": [],
   "source": []
  }
 ],
 "metadata": {
  "kernelspec": {
   "display_name": "Python 3",
   "language": "python",
   "name": "python3"
  },
  "language_info": {
   "codemirror_mode": {
    "name": "ipython",
    "version": 3
   },
   "file_extension": ".py",
   "mimetype": "text/x-python",
   "name": "python",
   "nbconvert_exporter": "python",
   "pygments_lexer": "ipython3",
   "version": "3.8.5"
  }
 },
 "nbformat": 4,
 "nbformat_minor": 4
}
