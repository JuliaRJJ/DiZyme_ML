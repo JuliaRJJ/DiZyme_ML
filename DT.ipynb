{
 "cells": [
  {
   "cell_type": "code",
   "execution_count": 7,
   "metadata": {},
   "outputs": [],
   "source": [
    "import numpy as np\n",
    "import matplotlib.pyplot as plt\n",
    "import pandas as pd\n",
    "from sklearn.model_selection import train_test_split\n",
    "\n",
    "db = pd.read_csv('DiZyme.csv')\n",
    "di2 = {'TMB':1.0, 'H2O2':2.0, 'ABTS': 3.0, 'OPD': 4.0, 'DAB':5.0, 'BA':6.0}\n",
    "db['Subtype'].replace(di2, inplace=True)\n",
    "x = db.loc[:,'Syngony':'volume'].values\n",
    "y = db.loc[:,'Kcat'].values\n",
    "x_train, x_test, y_train, y_test = train_test_split(x, y, test_size=0.2, random_state=7)\n",
    "\n",
    "from sklearn.preprocessing import MinMaxScaler\n",
    "sc = MinMaxScaler()\n",
    "x_train = sc.fit_transform(x_train)\n",
    "x_test = sc.transform(x_test)\n",
    "y_train =np.log10(y_train)\n",
    "y_test = np.log10(y_test)\n",
    "\n",
    "from sklearn.tree import DecisionTreeRegressor\n",
    "regressor = DecisionTreeRegressor(max_leaf_nodes=80, max_depth=80, min_samples_leaf=3, max_features='auto', splitter='best')\n",
    "regressor.fit(x_train, y_train)\n",
    "y_pred = regressor.predict(x_test)"
   ]
  },
  {
   "cell_type": "code",
   "execution_count": 8,
   "metadata": {},
   "outputs": [
    {
     "name": "stdout",
     "output_type": "stream",
     "text": [
      "Accuracy of Model with Cross Validation is: -1.0881068742618574\n",
      "r2_score: 0.4508907047689025\n",
      "Mean Absolute Error: 1.1381405849440767\n",
      "Mean Squared Error: 2.8174839827356153\n",
      "Root Mean Squared Error: 1.6785362619662452\n",
      "DecisionTreeRegressor(max_depth=80, max_features='auto', max_leaf_nodes=80,\n",
      "                      min_samples_leaf=3)\n",
      "r_score: 0.6714839571939917\n"
     ]
    },
    {
     "data": {
      "image/png": "[encoded data removed]",
      "text/plain": [
       "<Figure size 432x288 with 1 Axes>"
      ]
     },
     "metadata": {
      "needs_background": "light"
     },
     "output_type": "display_data"
    }
   ],
   "source": [
    "from sklearn.model_selection import cross_val_score\n",
    "accuracy=cross_val_score(regressor, x_train, y_train.ravel(), cv=10,\n",
    "                        scoring='neg_mean_absolute_error')\n",
    "print(\"Accuracy of Model with Cross Validation is:\",accuracy.mean())\n",
    "#metrics\n",
    "\n",
    "from sklearn import metrics\n",
    "print('r2_score:', metrics.r2_score(y_test, y_pred))\n",
    "print('Mean Absolute Error:', metrics.mean_absolute_error(y_test, y_pred))\n",
    "print('Mean Squared Error:', metrics.mean_squared_error(y_test, y_pred))\n",
    "print('Root Mean Squared Error:', np.sqrt(metrics.mean_squared_error(y_test, y_pred)))\n",
    "print(regressor)\n",
    "print('r_score:', np.sqrt(metrics.r2_score(y_test, y_pred)))\n",
    "plt.scatter(y_test, y_pred, color = 'blue')\n",
    "plt.plot(y_test, y_test, color = 'black')\n",
    "plt.title(' DecisionTreeRegressor')\n",
    "plt.xlabel('test data')\n",
    "plt.ylabel('predicted data')\n",
    "plt.xlim(-4, 9)\n",
    "plt.ylim(-4, 9)\n",
    "plt.gca().set_aspect('equal', adjustable='box')\n",
    "plt.show()"
   ]
  },
  {
   "cell_type": "code",
   "execution_count": 3,
   "metadata": {},
   "outputs": [],
   "source": [
    "import numpy as np\n",
    "import matplotlib.pyplot as plt\n",
    "import pandas as pd\n",
    "from sklearn.model_selection import train_test_split\n",
    "\n",
    "db = pd.read_csv('DiZymePred.csv')\n",
    "di2 = {'TMB':1.0, 'H2O2':2.0, 'ABTS': 3.0, 'OPD': 4.0, 'DAB':5.0, 'BA':6.0}\n",
    "db['Subtype'].replace(di2, inplace=True)\n",
    "x = db.loc[:,'Syngony':'Ccat'].values\n",
    "y = db.loc[:,'Km'].values\n",
    "x_train, x_test, y_train, y_test = train_test_split(x, y, test_size=0.2, random_state=7)\n",
    "\n",
    "from sklearn.preprocessing import MinMaxScaler\n",
    "sc = MinMaxScaler()\n",
    "x_train = sc.fit_transform(x_train)\n",
    "x_test = sc.transform(x_test)\n",
    "y_train =np.log10(y_train)\n",
    "y_test = np.log10(y_test)\n",
    "\n",
    "from sklearn.tree import DecisionTreeRegressor\n",
    "regressor = DecisionTreeRegressor(max_leaf_nodes=80, max_depth=80, min_samples_leaf=3, max_features='auto', splitter='best')\n",
    "regressor.fit(x_train, y_train)\n",
    "y_pred = regressor.predict(x_test)"
   ]
  },
  {
   "cell_type": "code",
   "execution_count": 6,
   "metadata": {},
   "outputs": [
    {
     "name": "stdout",
     "output_type": "stream",
     "text": [
      "Accuracy of Model with Cross Validation is: -0.7805864940181847\n",
      "r2_score: 0.3392230208531306\n",
      "Mean Absolute Error: 0.7368634604304419\n",
      "Mean Squared Error: 1.087247183298322\n",
      "Root Mean Squared Error: 1.042711457354489\n",
      "DecisionTreeRegressor(max_depth=80, max_features='auto', max_leaf_nodes=80,\n",
      "                      min_samples_leaf=3)\n",
      "r_score: 0.5824285542906792\n"
     ]
    },
    {
     "data": {
      "image/png": "[encoded data removed]",
      "text/plain": [
       "<Figure size 432x288 with 1 Axes>"
      ]
     },
     "metadata": {
      "needs_background": "light"
     },
     "output_type": "display_data"
    }
   ],
   "source": [
    "from sklearn.model_selection import cross_val_score\n",
    "accuracy=cross_val_score(regressor, x_train, y_train.ravel(), cv=10,\n",
    "                        scoring='neg_mean_absolute_error')\n",
    "print(\"Accuracy of Model with Cross Validation is:\",accuracy.mean())\n",
    "#metrics\n",
    "\n",
    "from sklearn import metrics\n",
    "print('r2_score:', metrics.r2_score(y_test, y_pred))\n",
    "print('Mean Absolute Error:', metrics.mean_absolute_error(y_test, y_pred))\n",
    "print('Mean Squared Error:', metrics.mean_squared_error(y_test, y_pred))\n",
    "print('Root Mean Squared Error:', np.sqrt(metrics.mean_squared_error(y_test, y_pred)))\n",
    "print(regressor)\n",
    "print('r_score:', np.sqrt(metrics.r2_score(y_test, y_pred)))\n",
    "plt.scatter(y_test, y_pred, color = 'blue')\n",
    "plt.plot(y_test, y_test, color = 'black')\n",
    "plt.title(' DecisionTreeRegressor')\n",
    "plt.xlabel('test data')\n",
    "plt.ylabel('predicted data')\n",
    "plt.xlim(-2, 4)\n",
    "plt.ylim(-2, 4)\n",
    "plt.gca().set_aspect('equal', adjustable='box')\n",
    "plt.show()"
   ]
  },
  {
   "cell_type": "code",
   "execution_count": null,
   "metadata": {},
   "outputs": [],
   "source": []
  }
 ],
 "metadata": {
  "kernelspec": {
   "display_name": "Python 3",
   "language": "python",
   "name": "python3"
  },
  "language_info": {
   "codemirror_mode": {
    "name": "ipython",
    "version": 3
   },
   "file_extension": ".py",
   "mimetype": "text/x-python",
   "name": "python",
   "nbconvert_exporter": "python",
   "pygments_lexer": "ipython3",
   "version": "3.8.5"
  }
 },
 "nbformat": 4,
 "nbformat_minor": 4
}
