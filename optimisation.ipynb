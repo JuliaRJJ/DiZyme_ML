{
  "nbformat": 4,
  "nbformat_minor": 0,
  "metadata": {
    "colab": {
      "name": "Git_optimisation.ipynb",
      "provenance": [],
      "collapsed_sections": []
    },
    "kernelspec": {
      "display_name": "Python 3",
      "language": "python",
      "name": "python3"
    },
    "language_info": {
      "codemirror_mode": {
        "name": "ipython",
        "version": 3
      },
      "file_extension": ".py",
      "mimetype": "text/x-python",
      "name": "python",
      "nbconvert_exporter": "python",
      "pygments_lexer": "ipython3",
      "version": "3.8.5"
    }
  },
  "cells": [
    {
      "cell_type": "code",
      "metadata": {
        "id": "IdNkQpdtU26o"
      },
      "source": [
        "pip install scikit-optimize"
      ],
      "execution_count": null,
      "outputs": []
    },
    {
      "cell_type": "code",
      "metadata": {
        "id": "feCOw5KaR2D1"
      },
      "source": [
        "import warnings\n",
        "warnings.filterwarnings(\"ignore\")\n",
        "from skopt import BayesSearchCV\n",
        "from skopt.space import Real, Categorical, Integer"
      ],
      "execution_count": 3,
      "outputs": []
    },
    {
      "cell_type": "code",
      "metadata": {
        "id": "rfkV9c68R9FN"
      },
      "source": [
        "import numpy as np\n",
        "import matplotlib.pyplot as plt\n",
        "import pandas as pd\n",
        "from sklearn.model_selection import train_test_split, cross_val_score\n",
        "from sklearn.ensemble import RandomForestRegressor\n",
        "from sklearn import metrics\n",
        "\n",
        "db = pd.read_csv('Dizyme.csv')\n",
        "\n",
        "di2 = {'TMB':1.0, 'H2O2':2.0, 'ABTS': 3.0, 'OPD': 4.0, 'DAB':5.0, 'BA':6.0}\n",
        "db['Subtype'].replace(di2, inplace=True)\n"
      ],
      "execution_count": null,
      "outputs": []
    },
    {
      "cell_type": "code",
      "metadata": {
        "id": "ginbeWOgSFz5"
      },
      "source": [
        "x = db.loc[:,'Syngony':'volume'].values\n",
        "y = db.loc[:,'Kcat'].values\n",
        "\n",
        "x_train, x_test, y_train, y_test = train_test_split(x, y, test_size=0.2, random_state=7)\n",
        "\n",
        "from sklearn.preprocessing import MinMaxScaler\n",
        "\n",
        "sc = MinMaxScaler(feature_range=(0, 1))\n",
        "x_train = sc.fit_transform(x_train)\n",
        "x_test = sc.transform(x_test)\n",
        "\n",
        "y_train = np.log10(y_train)\n",
        "y_test = np.log10(y_test)"
      ],
      "execution_count": null,
      "outputs": []
    },
    {
      "cell_type": "code",
      "metadata": {
        "id": "wiZiUGwhSOpf"
      },
      "source": [
        "reg = RandomForestRegressor(criterion='mae')\n",
        "\n",
        "search_space = {\n",
        "    \"n_estimators\": Integer(100,5000),\n",
        "    \"min_samples_split\": Integer(2, 30),\n",
        "    \"min_samples_leaf\": Integer(1, 30),\n",
        "    \"max_depth\": Integer(1, 100),\n",
        "    \"max_features\": Categorical(['auto', 'sqrt']),\n",
        "}\n",
        "\n",
        "reg_bayes = BayesSearchCV(\n",
        "    estimator=reg,\n",
        "    search_spaces=search_space,\n",
        "    cv=5,\n",
        "    verbose=2,\n",
        "    n_jobs=-1\n",
        ")\n",
        "reg_bayes.fit(x_train,y_train)\n",
        "n_esti = reg_bayes.best_estimator_.n_estimators\n",
        "depth = reg_bayes.best_estimator_.max_depth\n",
        "min_leaf = reg_bayes.best_estimator_.min_samples_leaf\n",
        "min_split = reg_bayes.best_estimator_.min_samples_split\n",
        "max_feat = reg_bayes.best_estimator_.max_features\n",
        "\n",
        "print('n_esti:', n_esti,'depth:', depth,'min_leaf:', min_leaf,'min_split:', min_split,'max_feat:', max_feat)\n"
      ],
      "execution_count": null,
      "outputs": []
    },
    {
      "cell_type": "code",
      "metadata": {
        "id": "Sm9WsKOfSeA7"
      },
      "source": [
        ""
      ],
      "execution_count": null,
      "outputs": []
    },
    {
      "cell_type": "code",
      "metadata": {
        "id": "XgExve6ElEXw"
      },
      "source": [
        ""
      ],
      "execution_count": null,
      "outputs": []
    }
  ]
}