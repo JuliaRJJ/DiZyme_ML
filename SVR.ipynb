{
 "cells": [
  {
   "cell_type": "code",
   "execution_count": 4,
   "metadata": {},
   "outputs": [],
   "source": [
    "import numpy as np\n",
    "import matplotlib.pyplot as plt\n",
    "import pandas as pd\n",
    "from sklearn.model_selection import train_test_split\n",
    "\n",
    "db = pd.read_csv('DiZyme.csv')\n",
    "di2 = {'TMB':1.0, 'H2O2':2.0, 'ABTS': 3.0, 'OPD': 4.0, 'DAB':5.0, 'BA':6.0}\n",
    "db['Subtype'].replace(di2, inplace=True)\n",
    "x = db.loc[:,'Syngony':'volume'].values\n",
    "y = db.loc[:,'Kcat'].values\n",
    "x_train, x_test, y_train, y_test = train_test_split(x, y, test_size=0.2, random_state=7)\n",
    "\n",
    "from sklearn.preprocessing import MinMaxScaler\n",
    "sc = MinMaxScaler()\n",
    "x_train = sc.fit_transform(x_train)\n",
    "x_test = sc.transform(x_test)\n",
    "\n",
    "y_train =np.log10(y_train)\n",
    "y_test = np.log10(y_test)\n",
    "\n",
    "from sklearn.svm import SVR\n",
    "regressor = SVR(C= 95, gamma= 22, degree= 2, kernel= 'rbf')\n",
    "regressor.fit(x_train, y_train)\n",
    "y_pred = regressor.predict(x_test)\n",
    "y1_pred = regressor.predict(x_train)"
   ]
  },
  {
   "cell_type": "code",
   "execution_count": 6,
   "metadata": {},
   "outputs": [
    {
     "name": "stdout",
     "output_type": "stream",
     "text": [
      "Q2: -0.9850604881783678\n",
      "r2_test: 0.6928141345866322\n",
      "MAE_test: 1.010728181539431\n",
      "MSE_test: 1.7649139009104122\n",
      "RMSE_test: 1.3285006213436306\n",
      "r2_train: 0.9699140892461462\n",
      "MAE_train: 0.1834927426875421\n",
      "MSE_train: 0.17321527638765247\n",
      "RMSE_train: 0.4161913939375158\n"
     ]
    },
    {
     "data": {
      "image/png": "[encoded data removed]",
      "text/plain": [
       "<Figure size 432x288 with 1 Axes>"
      ]
     },
     "metadata": {
      "needs_background": "light"
     },
     "output_type": "display_data"
    }
   ],
   "source": [
    "from sklearn.model_selection import cross_val_score\n",
    "accuracy=cross_val_score(regressor, x_train, y_train.ravel(), cv=10,\n",
    "                        scoring='neg_mean_absolute_error')\n",
    "print(\"Q2:\",accuracy.mean())\n",
    "\n",
    "from sklearn import metrics\n",
    "print('r2_test:', metrics.r2_score(y_test, y_pred))\n",
    "print('MAE_test:', metrics.mean_absolute_error(y_test, y_pred))\n",
    "print('MSE_test:', metrics.mean_squared_error(y_test, y_pred))\n",
    "print('RMSE_test:', np.sqrt(metrics.mean_squared_error(y_test, y_pred)))\n",
    "print('r2_train:', metrics.r2_score(y_train, y1_pred))\n",
    "print('MAE_train:', metrics.mean_absolute_error(y_train, y1_pred))\n",
    "print('MSE_train:', metrics.mean_squared_error(y_train, y1_pred))\n",
    "print('RMSE_train:', np.sqrt(metrics.mean_squared_error(y_train, y1_pred)))\n",
    "plt.scatter(y_test, y_pred, color = 'blue')\n",
    "plt.plot(y_test, y_test, color = 'black')\n",
    "plt.title('SVR')\n",
    "plt.xlabel('test data')\n",
    "plt.ylabel('predicted data')\n",
    "plt.xlim(-4, 9)\n",
    "plt.ylim(-4, 9)\n",
    "plt.gca().set_aspect('equal', adjustable='box')\n",
    "plt.show()"
   ]
  },
  {
   "cell_type": "code",
   "execution_count": 7,
   "metadata": {},
   "outputs": [],
   "source": [
    "import numpy as np\n",
    "import matplotlib.pyplot as plt\n",
    "import pandas as pd\n",
    "from sklearn.model_selection import train_test_split\n",
    "\n",
    "db = pd.read_csv('DiZymePred.csv')\n",
    "di2 = {'TMB':1.0, 'H2O2':2.0, 'ABTS': 3.0, 'OPD': 4.0, 'DAB':5.0, 'BA':6.0}\n",
    "db['Subtype'].replace(di2, inplace=True)\n",
    "x = db.loc[:,'Syngony':'Ccat'].values\n",
    "y = db.loc[:,'Km'].values\n",
    "x_train, x_test, y_train, y_test = train_test_split(x, y, test_size=0.2, random_state=7)\n",
    "\n",
    "from sklearn.preprocessing import MinMaxScaler\n",
    "sc = MinMaxScaler()\n",
    "x_train = sc.fit_transform(x_train)\n",
    "x_test = sc.transform(x_test)\n",
    "\n",
    "y_train =np.log10(y_train)\n",
    "y_test = np.log10(y_test)\n",
    "\n",
    "from sklearn.svm import SVR\n",
    "regressor = SVR(C= 95, gamma= 22, degree= 2, kernel= 'rbf')\n",
    "regressor.fit(x_train, y_train)\n",
    "y_pred = regressor.predict(x_test)\n",
    "y1_pred = regressor.predict(x_train)"
   ]
  },
  {
   "cell_type": "code",
   "execution_count": 8,
   "metadata": {},
   "outputs": [
    {
     "name": "stdout",
     "output_type": "stream",
     "text": [
      "Q2: -0.780252851455228\n",
      "r2_test: 0.3370558129440874\n",
      "MAE_test: 0.7630155499681144\n",
      "MSE_test: 1.09081312274399\n",
      "RMSE_test: 1.0444199934623952\n",
      "r2_train: 0.9828431100914737\n",
      "MAE_train: 0.11647466914704296\n",
      "MSE_train: 0.023580014827687002\n",
      "RMSE_train: 0.1535578549853019\n"
     ]
    },
    {
     "data": {
      "image/png": "[encoded data removed]",
      "text/plain": [
       "<Figure size 432x288 with 1 Axes>"
      ]
     },
     "metadata": {
      "needs_background": "light"
     },
     "output_type": "display_data"
    }
   ],
   "source": [
    "from sklearn.model_selection import cross_val_score\n",
    "accuracy=cross_val_score(regressor, x_train, y_train.ravel(), cv=10,\n",
    "                        scoring='neg_mean_absolute_error')\n",
    "print(\"Q2:\",accuracy.mean())\n",
    "\n",
    "from sklearn import metrics\n",
    "print('r2_test:', metrics.r2_score(y_test, y_pred))\n",
    "print('MAE_test:', metrics.mean_absolute_error(y_test, y_pred))\n",
    "print('MSE_test:', metrics.mean_squared_error(y_test, y_pred))\n",
    "print('RMSE_test:', np.sqrt(metrics.mean_squared_error(y_test, y_pred)))\n",
    "print('r2_train:', metrics.r2_score(y_train, y1_pred))\n",
    "print('MAE_train:', metrics.mean_absolute_error(y_train, y1_pred))\n",
    "print('MSE_train:', metrics.mean_squared_error(y_train, y1_pred))\n",
    "print('RMSE_train:', np.sqrt(metrics.mean_squared_error(y_train, y1_pred)))\n",
    "plt.scatter(y_test, y_pred, color = 'blue')\n",
    "plt.plot(y_test, y_test, color = 'black')\n",
    "plt.title('SVR')\n",
    "plt.xlabel('test data')\n",
    "plt.ylabel('predicted data')\n",
    "plt.xlim(-3, 4)\n",
    "plt.ylim(-3, 4)\n",
    "plt.gca().set_aspect('equal', adjustable='box')\n",
    "plt.show()"
   ]
  },
  {
   "cell_type": "code",
   "execution_count": null,
   "metadata": {},
   "outputs": [],
   "source": []
  }
 ],
 "metadata": {
  "kernelspec": {
   "display_name": "Python 3",
   "language": "python",
   "name": "python3"
  },
  "language_info": {
   "codemirror_mode": {
    "name": "ipython",
    "version": 3
   },
   "file_extension": ".py",
   "mimetype": "text/x-python",
   "name": "python",
   "nbconvert_exporter": "python",
   "pygments_lexer": "ipython3",
   "version": "3.8.5"
  }
 },
 "nbformat": 4,
 "nbformat_minor": 4
}
