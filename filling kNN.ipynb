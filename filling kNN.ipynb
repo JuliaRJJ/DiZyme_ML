{
 "cells": [
  {
   "cell_type": "code",
   "execution_count": 1,
   "metadata": {},
   "outputs": [],
   "source": [
    "import numpy \n",
    "import pandas as pd \n",
    "from sklearn.impute import KNNImputer \n",
    " \n",
    "df = pd.read_csv(\"DiZyme.csv\") \n",
    "di2 = {'TMB':1.0, 'H2O2':2.0, 'ABTS': 3.0, 'OPD': 4.0, 'DAB':5.0, 'BA':6.0}\n",
    "df['Subtype'].replace(di2, inplace=True)\n",
    "df = pd.DataFrame(df).drop( columns='formula')\n",
    "imputer = KNNImputer(n_neighbors=2) \n",
    "df_filled = imputer.fit_transform(df) \n",
    "numpy.savetxt(\"DZP_filled.csv\", df_filled, delimiter=\",\")\n"
   ]
  },
  {
   "cell_type": "code",
   "execution_count": null,
   "metadata": {},
   "outputs": [],
   "source": []
  }
 ],
 "metadata": {
  "kernelspec": {
   "display_name": "Python 3",
   "language": "python",
   "name": "python3"
  },
  "language_info": {
   "codemirror_mode": {
    "name": "ipython",
    "version": 3
   },
   "file_extension": ".py",
   "mimetype": "text/x-python",
   "name": "python",
   "nbconvert_exporter": "python",
   "pygments_lexer": "ipython3",
   "version": "3.8.5"
  }
 },
 "nbformat": 4,
 "nbformat_minor": 4
}
